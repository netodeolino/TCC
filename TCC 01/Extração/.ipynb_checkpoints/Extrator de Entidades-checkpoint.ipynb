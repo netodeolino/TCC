{
 "cells": [
  {
   "cell_type": "code",
   "execution_count": 2,
   "metadata": {
    "collapsed": true,
    "deletable": true,
    "editable": true
   },
   "outputs": [],
   "source": [
    "import numpy as np"
   ]
  },
  {
   "cell_type": "code",
   "execution_count": 3,
   "metadata": {
    "collapsed": true,
    "deletable": true,
    "editable": true
   },
   "outputs": [],
   "source": [
    "import pandas"
   ]
  },
  {
   "cell_type": "code",
   "execution_count": 4,
   "metadata": {
    "collapsed": false,
    "deletable": true,
    "editable": true
   },
   "outputs": [],
   "source": [
    "tes = pandas.read_csv(\"../../../../Dropbox/FACULDADE/7° SEMESTRE/TRABALHO DE CONCLUSÃO DE CURSO/Base de Dados/2017/Janeiro/tabula-01-jan-17.csv\")"
   ]
  },
  {
   "cell_type": "code",
   "execution_count": 5,
   "metadata": {
    "collapsed": false,
    "deletable": true,
    "editable": true
   },
   "outputs": [
    {
     "data": {
      "text/html": [
       "<div>\n",
       "<table border=\"1\" class=\"dataframe\">\n",
       "  <thead>\n",
       "    <tr style=\"text-align: right;\">\n",
       "      <th></th>\n",
       "      <th>FONTE</th>\n",
       "      <th>NATUREZA DA OCORRÊNCIA</th>\n",
       "      <th>HISTÓRICO DA OCORRÊNCIA</th>\n",
       "    </tr>\n",
       "  </thead>\n",
       "  <tbody>\n",
       "    <tr>\n",
       "      <th>0</th>\n",
       "      <td>CIOPS</td>\n",
       "      <td>MORTE A BALA / LESÃO CORPORAL A BALA / TENTATI...</td>\n",
       "      <td>LOCAL: RUA ARI DE SÁ CAVALCANTE, BARRA DO CEAR...</td>\n",
       "    </tr>\n",
       "    <tr>\n",
       "      <th>1</th>\n",
       "      <td>CIOPS</td>\n",
       "      <td>MORTE A BALA 02H32</td>\n",
       "      <td>LOCAL: RUA HUMBERTO LOMEU, GRANJA PORTUGAL. VÍ...</td>\n",
       "    </tr>\n",
       "    <tr>\n",
       "      <th>2</th>\n",
       "      <td>CIOPS</td>\n",
       "      <td>MORTE A BALA 04H24</td>\n",
       "      <td>LOCAL: RUA TIAGO PEREIRA, BOM JARDIM.  VÍTIMA:...</td>\n",
       "    </tr>\n",
       "    <tr>\n",
       "      <th>3</th>\n",
       "      <td>CIOPS</td>\n",
       "      <td>MORTES A BALA 06H42</td>\n",
       "      <td>LOCAL: RUA EDUARDO ARAÚJO, VILA VELHA.  VÍTIMA...</td>\n",
       "    </tr>\n",
       "    <tr>\n",
       "      <th>4</th>\n",
       "      <td>CIOPS</td>\n",
       "      <td>MORTE A BALA 12H41</td>\n",
       "      <td>LOCAL: RUA BRÁS CUBAS, PLANALTO AIRTON SENA.  ...</td>\n",
       "    </tr>\n",
       "    <tr>\n",
       "      <th>5</th>\n",
       "      <td>CIOPS</td>\n",
       "      <td>PORTE ILEGAL DE ARMA (FLAGRANTE) 05H10</td>\n",
       "      <td>LOCAL: RUA COMENDADOR FRANCISCO DE FRANCESCO D...</td>\n",
       "    </tr>\n",
       "    <tr>\n",
       "      <th>6</th>\n",
       "      <td>CIOPS</td>\n",
       "      <td>LESÃO CORPORAL A FACA (FLAGRANTE) 00H57</td>\n",
       "      <td>LOCAL: RUIA ANA NERI, DAMAS.  VÍTIMA: ANA P.S....</td>\n",
       "    </tr>\n",
       "    <tr>\n",
       "      <th>7</th>\n",
       "      <td>CIOPS</td>\n",
       "      <td>ROUBO A PESSOA (FLAGRANTE) 06H26</td>\n",
       "      <td>LOCAL: AV. BEIRA MAR, PRAIA DE IRACEMA.  VÍTIM...</td>\n",
       "    </tr>\n",
       "    <tr>\n",
       "      <th>8</th>\n",
       "      <td>CIOPS</td>\n",
       "      <td>APREENSÃO DE ENTORPECENTES 08H26</td>\n",
       "      <td>LOCAL: TRAVESSA SÃO JOÃO, VICENTE PINZON.  MAT...</td>\n",
       "    </tr>\n",
       "    <tr>\n",
       "      <th>9</th>\n",
       "      <td>CIOPS</td>\n",
       "      <td>FURTO A PESSOA (FLAGRANTE) 09H34</td>\n",
       "      <td>LOCAL: RUA ILDEFONSO ALBANO, PRAIA DE IRACEMA....</td>\n",
       "    </tr>\n",
       "    <tr>\n",
       "      <th>10</th>\n",
       "      <td>CIOPS</td>\n",
       "      <td>LESÃO CORPORAL A OUTROS (FLAGRANTE) 10H44</td>\n",
       "      <td>LOCAL: RUA ZÉLIA CORREIA DE SOUSA, ITAPERI.  V...</td>\n",
       "    </tr>\n",
       "    <tr>\n",
       "      <th>11</th>\n",
       "      <td>CIOPS</td>\n",
       "      <td>LESÃO CORPORAL A FACA (FLAGRANTE) 15H17</td>\n",
       "      <td>LOCAL: RUA PEDRO WILSOM, ITAPERI.  VÍTIMA: TAD...</td>\n",
       "    </tr>\n",
       "    <tr>\n",
       "      <th>12</th>\n",
       "      <td>CIOPS</td>\n",
       "      <td>LESÃO CORPORAL A BALA (FLAGRANTE) 20H11</td>\n",
       "      <td>LOCAL : RUA FRANCISCO MATIAS, SABIAGUABA.  VÍT...</td>\n",
       "    </tr>\n",
       "    <tr>\n",
       "      <th>13</th>\n",
       "      <td>CIOPS</td>\n",
       "      <td>AGRESSÃO/VIAS DE FATO (FLAGRANTE) 22H31</td>\n",
       "      <td>LOCAL: RUA DELMIRO DE FARIAS, JARDIM AMÉRICA. ...</td>\n",
       "    </tr>\n",
       "    <tr>\n",
       "      <th>14</th>\n",
       "      <td>CIOPS</td>\n",
       "      <td>VEÍCULO LOCALIZADO 06H41</td>\n",
       "      <td>LOCAL: RUA RIBEIRO JÚNIOR, JÓQUEI CLUBE.  VEÍC...</td>\n",
       "    </tr>\n",
       "    <tr>\n",
       "      <th>15</th>\n",
       "      <td>CIOPS</td>\n",
       "      <td>VEÍCULO LOCALIZADO 16H22</td>\n",
       "      <td>LOCAL: RUA MONSENHOR FURTADO, BELA VISTA.  VEÍ...</td>\n",
       "    </tr>\n",
       "    <tr>\n",
       "      <th>16</th>\n",
       "      <td>CIOPS</td>\n",
       "      <td>VEÍCULO LOCALIZADO 17H34</td>\n",
       "      <td>LOCAL: RUA ONZE DE JULHO, CARLITO PAMPLONA.  V...</td>\n",
       "    </tr>\n",
       "    <tr>\n",
       "      <th>17</th>\n",
       "      <td>CIOPS</td>\n",
       "      <td>VEÍCULO LOCALIZADO (FLAGRANTE) 21H06</td>\n",
       "      <td>LOCAL: RUA CELENE, CRISTO REDENTOR.  VEÍCULO: ...</td>\n",
       "    </tr>\n",
       "    <tr>\n",
       "      <th>18</th>\n",
       "      <td>CIOPS</td>\n",
       "      <td>VEÍCULO LOCALIZADO 22H11</td>\n",
       "      <td>LOCAL: RUA FRANCISCA VIEIRA, CANINDEZINHO.  VE...</td>\n",
       "    </tr>\n",
       "  </tbody>\n",
       "</table>\n",
       "</div>"
      ],
      "text/plain": [
       "    FONTE                             NATUREZA DA OCORRÊNCIA  \\\n",
       "0   CIOPS  MORTE A BALA / LESÃO CORPORAL A BALA / TENTATI...   \n",
       "1   CIOPS                                 MORTE A BALA 02H32   \n",
       "2   CIOPS                                 MORTE A BALA 04H24   \n",
       "3   CIOPS                                MORTES A BALA 06H42   \n",
       "4   CIOPS                                 MORTE A BALA 12H41   \n",
       "5   CIOPS             PORTE ILEGAL DE ARMA (FLAGRANTE) 05H10   \n",
       "6   CIOPS            LESÃO CORPORAL A FACA (FLAGRANTE) 00H57   \n",
       "7   CIOPS                   ROUBO A PESSOA (FLAGRANTE) 06H26   \n",
       "8   CIOPS                   APREENSÃO DE ENTORPECENTES 08H26   \n",
       "9   CIOPS                   FURTO A PESSOA (FLAGRANTE) 09H34   \n",
       "10  CIOPS          LESÃO CORPORAL A OUTROS (FLAGRANTE) 10H44   \n",
       "11  CIOPS            LESÃO CORPORAL A FACA (FLAGRANTE) 15H17   \n",
       "12  CIOPS            LESÃO CORPORAL A BALA (FLAGRANTE) 20H11   \n",
       "13  CIOPS            AGRESSÃO/VIAS DE FATO (FLAGRANTE) 22H31   \n",
       "14  CIOPS                           VEÍCULO LOCALIZADO 06H41   \n",
       "15  CIOPS                           VEÍCULO LOCALIZADO 16H22   \n",
       "16  CIOPS                           VEÍCULO LOCALIZADO 17H34   \n",
       "17  CIOPS               VEÍCULO LOCALIZADO (FLAGRANTE) 21H06   \n",
       "18  CIOPS                           VEÍCULO LOCALIZADO 22H11   \n",
       "\n",
       "                              HISTÓRICO DA OCORRÊNCIA  \n",
       "0   LOCAL: RUA ARI DE SÁ CAVALCANTE, BARRA DO CEAR...  \n",
       "1   LOCAL: RUA HUMBERTO LOMEU, GRANJA PORTUGAL. VÍ...  \n",
       "2   LOCAL: RUA TIAGO PEREIRA, BOM JARDIM.  VÍTIMA:...  \n",
       "3   LOCAL: RUA EDUARDO ARAÚJO, VILA VELHA.  VÍTIMA...  \n",
       "4   LOCAL: RUA BRÁS CUBAS, PLANALTO AIRTON SENA.  ...  \n",
       "5   LOCAL: RUA COMENDADOR FRANCISCO DE FRANCESCO D...  \n",
       "6   LOCAL: RUIA ANA NERI, DAMAS.  VÍTIMA: ANA P.S....  \n",
       "7   LOCAL: AV. BEIRA MAR, PRAIA DE IRACEMA.  VÍTIM...  \n",
       "8   LOCAL: TRAVESSA SÃO JOÃO, VICENTE PINZON.  MAT...  \n",
       "9   LOCAL: RUA ILDEFONSO ALBANO, PRAIA DE IRACEMA....  \n",
       "10  LOCAL: RUA ZÉLIA CORREIA DE SOUSA, ITAPERI.  V...  \n",
       "11  LOCAL: RUA PEDRO WILSOM, ITAPERI.  VÍTIMA: TAD...  \n",
       "12  LOCAL : RUA FRANCISCO MATIAS, SABIAGUABA.  VÍT...  \n",
       "13  LOCAL: RUA DELMIRO DE FARIAS, JARDIM AMÉRICA. ...  \n",
       "14  LOCAL: RUA RIBEIRO JÚNIOR, JÓQUEI CLUBE.  VEÍC...  \n",
       "15  LOCAL: RUA MONSENHOR FURTADO, BELA VISTA.  VEÍ...  \n",
       "16  LOCAL: RUA ONZE DE JULHO, CARLITO PAMPLONA.  V...  \n",
       "17  LOCAL: RUA CELENE, CRISTO REDENTOR.  VEÍCULO: ...  \n",
       "18  LOCAL: RUA FRANCISCA VIEIRA, CANINDEZINHO.  VE...  "
      ]
     },
     "execution_count": 5,
     "metadata": {},
     "output_type": "execute_result"
    }
   ],
   "source": [
    "tes"
   ]
  },
  {
   "cell_type": "code",
   "execution_count": 7,
   "metadata": {
    "collapsed": false,
    "deletable": true,
    "editable": true
   },
   "outputs": [
    {
     "data": {
      "text/plain": [
       "pandas.core.frame.DataFrame"
      ]
     },
     "execution_count": 7,
     "metadata": {},
     "output_type": "execute_result"
    }
   ],
   "source": [
    "type(tes)"
   ]
  },
  {
   "cell_type": "code",
   "execution_count": 6,
   "metadata": {
    "collapsed": true,
    "deletable": true,
    "editable": true
   },
   "outputs": [],
   "source": [
    "del tes['FONTE']"
   ]
  },
  {
   "cell_type": "code",
   "execution_count": 7,
   "metadata": {
    "collapsed": false,
    "deletable": true,
    "editable": true
   },
   "outputs": [
    {
     "data": {
      "text/html": [
       "<div>\n",
       "<table border=\"1\" class=\"dataframe\">\n",
       "  <thead>\n",
       "    <tr style=\"text-align: right;\">\n",
       "      <th></th>\n",
       "      <th>NATUREZA DA OCORRÊNCIA</th>\n",
       "      <th>HISTÓRICO DA OCORRÊNCIA</th>\n",
       "    </tr>\n",
       "  </thead>\n",
       "  <tbody>\n",
       "    <tr>\n",
       "      <th>0</th>\n",
       "      <td>MORTE A BALA / LESÃO CORPORAL A BALA / TENTATI...</td>\n",
       "      <td>LOCAL: RUA ARI DE SÁ CAVALCANTE, BARRA DO CEAR...</td>\n",
       "    </tr>\n",
       "    <tr>\n",
       "      <th>1</th>\n",
       "      <td>MORTE A BALA 02H32</td>\n",
       "      <td>LOCAL: RUA HUMBERTO LOMEU, GRANJA PORTUGAL. VÍ...</td>\n",
       "    </tr>\n",
       "    <tr>\n",
       "      <th>2</th>\n",
       "      <td>MORTE A BALA 04H24</td>\n",
       "      <td>LOCAL: RUA TIAGO PEREIRA, BOM JARDIM.  VÍTIMA:...</td>\n",
       "    </tr>\n",
       "    <tr>\n",
       "      <th>3</th>\n",
       "      <td>MORTES A BALA 06H42</td>\n",
       "      <td>LOCAL: RUA EDUARDO ARAÚJO, VILA VELHA.  VÍTIMA...</td>\n",
       "    </tr>\n",
       "    <tr>\n",
       "      <th>4</th>\n",
       "      <td>MORTE A BALA 12H41</td>\n",
       "      <td>LOCAL: RUA BRÁS CUBAS, PLANALTO AIRTON SENA.  ...</td>\n",
       "    </tr>\n",
       "    <tr>\n",
       "      <th>5</th>\n",
       "      <td>PORTE ILEGAL DE ARMA (FLAGRANTE) 05H10</td>\n",
       "      <td>LOCAL: RUA COMENDADOR FRANCISCO DE FRANCESCO D...</td>\n",
       "    </tr>\n",
       "    <tr>\n",
       "      <th>6</th>\n",
       "      <td>LESÃO CORPORAL A FACA (FLAGRANTE) 00H57</td>\n",
       "      <td>LOCAL: RUIA ANA NERI, DAMAS.  VÍTIMA: ANA P.S....</td>\n",
       "    </tr>\n",
       "    <tr>\n",
       "      <th>7</th>\n",
       "      <td>ROUBO A PESSOA (FLAGRANTE) 06H26</td>\n",
       "      <td>LOCAL: AV. BEIRA MAR, PRAIA DE IRACEMA.  VÍTIM...</td>\n",
       "    </tr>\n",
       "    <tr>\n",
       "      <th>8</th>\n",
       "      <td>APREENSÃO DE ENTORPECENTES 08H26</td>\n",
       "      <td>LOCAL: TRAVESSA SÃO JOÃO, VICENTE PINZON.  MAT...</td>\n",
       "    </tr>\n",
       "    <tr>\n",
       "      <th>9</th>\n",
       "      <td>FURTO A PESSOA (FLAGRANTE) 09H34</td>\n",
       "      <td>LOCAL: RUA ILDEFONSO ALBANO, PRAIA DE IRACEMA....</td>\n",
       "    </tr>\n",
       "    <tr>\n",
       "      <th>10</th>\n",
       "      <td>LESÃO CORPORAL A OUTROS (FLAGRANTE) 10H44</td>\n",
       "      <td>LOCAL: RUA ZÉLIA CORREIA DE SOUSA, ITAPERI.  V...</td>\n",
       "    </tr>\n",
       "    <tr>\n",
       "      <th>11</th>\n",
       "      <td>LESÃO CORPORAL A FACA (FLAGRANTE) 15H17</td>\n",
       "      <td>LOCAL: RUA PEDRO WILSOM, ITAPERI.  VÍTIMA: TAD...</td>\n",
       "    </tr>\n",
       "    <tr>\n",
       "      <th>12</th>\n",
       "      <td>LESÃO CORPORAL A BALA (FLAGRANTE) 20H11</td>\n",
       "      <td>LOCAL : RUA FRANCISCO MATIAS, SABIAGUABA.  VÍT...</td>\n",
       "    </tr>\n",
       "    <tr>\n",
       "      <th>13</th>\n",
       "      <td>AGRESSÃO/VIAS DE FATO (FLAGRANTE) 22H31</td>\n",
       "      <td>LOCAL: RUA DELMIRO DE FARIAS, JARDIM AMÉRICA. ...</td>\n",
       "    </tr>\n",
       "    <tr>\n",
       "      <th>14</th>\n",
       "      <td>VEÍCULO LOCALIZADO 06H41</td>\n",
       "      <td>LOCAL: RUA RIBEIRO JÚNIOR, JÓQUEI CLUBE.  VEÍC...</td>\n",
       "    </tr>\n",
       "    <tr>\n",
       "      <th>15</th>\n",
       "      <td>VEÍCULO LOCALIZADO 16H22</td>\n",
       "      <td>LOCAL: RUA MONSENHOR FURTADO, BELA VISTA.  VEÍ...</td>\n",
       "    </tr>\n",
       "    <tr>\n",
       "      <th>16</th>\n",
       "      <td>VEÍCULO LOCALIZADO 17H34</td>\n",
       "      <td>LOCAL: RUA ONZE DE JULHO, CARLITO PAMPLONA.  V...</td>\n",
       "    </tr>\n",
       "    <tr>\n",
       "      <th>17</th>\n",
       "      <td>VEÍCULO LOCALIZADO (FLAGRANTE) 21H06</td>\n",
       "      <td>LOCAL: RUA CELENE, CRISTO REDENTOR.  VEÍCULO: ...</td>\n",
       "    </tr>\n",
       "    <tr>\n",
       "      <th>18</th>\n",
       "      <td>VEÍCULO LOCALIZADO 22H11</td>\n",
       "      <td>LOCAL: RUA FRANCISCA VIEIRA, CANINDEZINHO.  VE...</td>\n",
       "    </tr>\n",
       "  </tbody>\n",
       "</table>\n",
       "</div>"
      ],
      "text/plain": [
       "                               NATUREZA DA OCORRÊNCIA  \\\n",
       "0   MORTE A BALA / LESÃO CORPORAL A BALA / TENTATI...   \n",
       "1                                  MORTE A BALA 02H32   \n",
       "2                                  MORTE A BALA 04H24   \n",
       "3                                 MORTES A BALA 06H42   \n",
       "4                                  MORTE A BALA 12H41   \n",
       "5              PORTE ILEGAL DE ARMA (FLAGRANTE) 05H10   \n",
       "6             LESÃO CORPORAL A FACA (FLAGRANTE) 00H57   \n",
       "7                    ROUBO A PESSOA (FLAGRANTE) 06H26   \n",
       "8                    APREENSÃO DE ENTORPECENTES 08H26   \n",
       "9                    FURTO A PESSOA (FLAGRANTE) 09H34   \n",
       "10          LESÃO CORPORAL A OUTROS (FLAGRANTE) 10H44   \n",
       "11            LESÃO CORPORAL A FACA (FLAGRANTE) 15H17   \n",
       "12            LESÃO CORPORAL A BALA (FLAGRANTE) 20H11   \n",
       "13            AGRESSÃO/VIAS DE FATO (FLAGRANTE) 22H31   \n",
       "14                           VEÍCULO LOCALIZADO 06H41   \n",
       "15                           VEÍCULO LOCALIZADO 16H22   \n",
       "16                           VEÍCULO LOCALIZADO 17H34   \n",
       "17               VEÍCULO LOCALIZADO (FLAGRANTE) 21H06   \n",
       "18                           VEÍCULO LOCALIZADO 22H11   \n",
       "\n",
       "                              HISTÓRICO DA OCORRÊNCIA  \n",
       "0   LOCAL: RUA ARI DE SÁ CAVALCANTE, BARRA DO CEAR...  \n",
       "1   LOCAL: RUA HUMBERTO LOMEU, GRANJA PORTUGAL. VÍ...  \n",
       "2   LOCAL: RUA TIAGO PEREIRA, BOM JARDIM.  VÍTIMA:...  \n",
       "3   LOCAL: RUA EDUARDO ARAÚJO, VILA VELHA.  VÍTIMA...  \n",
       "4   LOCAL: RUA BRÁS CUBAS, PLANALTO AIRTON SENA.  ...  \n",
       "5   LOCAL: RUA COMENDADOR FRANCISCO DE FRANCESCO D...  \n",
       "6   LOCAL: RUIA ANA NERI, DAMAS.  VÍTIMA: ANA P.S....  \n",
       "7   LOCAL: AV. BEIRA MAR, PRAIA DE IRACEMA.  VÍTIM...  \n",
       "8   LOCAL: TRAVESSA SÃO JOÃO, VICENTE PINZON.  MAT...  \n",
       "9   LOCAL: RUA ILDEFONSO ALBANO, PRAIA DE IRACEMA....  \n",
       "10  LOCAL: RUA ZÉLIA CORREIA DE SOUSA, ITAPERI.  V...  \n",
       "11  LOCAL: RUA PEDRO WILSOM, ITAPERI.  VÍTIMA: TAD...  \n",
       "12  LOCAL : RUA FRANCISCO MATIAS, SABIAGUABA.  VÍT...  \n",
       "13  LOCAL: RUA DELMIRO DE FARIAS, JARDIM AMÉRICA. ...  \n",
       "14  LOCAL: RUA RIBEIRO JÚNIOR, JÓQUEI CLUBE.  VEÍC...  \n",
       "15  LOCAL: RUA MONSENHOR FURTADO, BELA VISTA.  VEÍ...  \n",
       "16  LOCAL: RUA ONZE DE JULHO, CARLITO PAMPLONA.  V...  \n",
       "17  LOCAL: RUA CELENE, CRISTO REDENTOR.  VEÍCULO: ...  \n",
       "18  LOCAL: RUA FRANCISCA VIEIRA, CANINDEZINHO.  VE...  "
      ]
     },
     "execution_count": 7,
     "metadata": {},
     "output_type": "execute_result"
    }
   ],
   "source": [
    "tes"
   ]
  },
  {
   "cell_type": "code",
   "execution_count": 8,
   "metadata": {
    "collapsed": true,
    "deletable": true,
    "editable": true
   },
   "outputs": [],
   "source": [
    "del tes['NATUREZA DA OCORRÊNCIA']"
   ]
  },
  {
   "cell_type": "code",
   "execution_count": 9,
   "metadata": {
    "collapsed": false,
    "deletable": true,
    "editable": true
   },
   "outputs": [
    {
     "data": {
      "text/html": [
       "<div>\n",
       "<table border=\"1\" class=\"dataframe\">\n",
       "  <thead>\n",
       "    <tr style=\"text-align: right;\">\n",
       "      <th></th>\n",
       "      <th>HISTÓRICO DA OCORRÊNCIA</th>\n",
       "    </tr>\n",
       "  </thead>\n",
       "  <tbody>\n",
       "    <tr>\n",
       "      <th>0</th>\n",
       "      <td>LOCAL: RUA ARI DE SÁ CAVALCANTE, BARRA DO CEAR...</td>\n",
       "    </tr>\n",
       "    <tr>\n",
       "      <th>1</th>\n",
       "      <td>LOCAL: RUA HUMBERTO LOMEU, GRANJA PORTUGAL. VÍ...</td>\n",
       "    </tr>\n",
       "    <tr>\n",
       "      <th>2</th>\n",
       "      <td>LOCAL: RUA TIAGO PEREIRA, BOM JARDIM.  VÍTIMA:...</td>\n",
       "    </tr>\n",
       "    <tr>\n",
       "      <th>3</th>\n",
       "      <td>LOCAL: RUA EDUARDO ARAÚJO, VILA VELHA.  VÍTIMA...</td>\n",
       "    </tr>\n",
       "    <tr>\n",
       "      <th>4</th>\n",
       "      <td>LOCAL: RUA BRÁS CUBAS, PLANALTO AIRTON SENA.  ...</td>\n",
       "    </tr>\n",
       "    <tr>\n",
       "      <th>5</th>\n",
       "      <td>LOCAL: RUA COMENDADOR FRANCISCO DE FRANCESCO D...</td>\n",
       "    </tr>\n",
       "    <tr>\n",
       "      <th>6</th>\n",
       "      <td>LOCAL: RUIA ANA NERI, DAMAS.  VÍTIMA: ANA P.S....</td>\n",
       "    </tr>\n",
       "    <tr>\n",
       "      <th>7</th>\n",
       "      <td>LOCAL: AV. BEIRA MAR, PRAIA DE IRACEMA.  VÍTIM...</td>\n",
       "    </tr>\n",
       "    <tr>\n",
       "      <th>8</th>\n",
       "      <td>LOCAL: TRAVESSA SÃO JOÃO, VICENTE PINZON.  MAT...</td>\n",
       "    </tr>\n",
       "    <tr>\n",
       "      <th>9</th>\n",
       "      <td>LOCAL: RUA ILDEFONSO ALBANO, PRAIA DE IRACEMA....</td>\n",
       "    </tr>\n",
       "    <tr>\n",
       "      <th>10</th>\n",
       "      <td>LOCAL: RUA ZÉLIA CORREIA DE SOUSA, ITAPERI.  V...</td>\n",
       "    </tr>\n",
       "    <tr>\n",
       "      <th>11</th>\n",
       "      <td>LOCAL: RUA PEDRO WILSOM, ITAPERI.  VÍTIMA: TAD...</td>\n",
       "    </tr>\n",
       "    <tr>\n",
       "      <th>12</th>\n",
       "      <td>LOCAL : RUA FRANCISCO MATIAS, SABIAGUABA.  VÍT...</td>\n",
       "    </tr>\n",
       "    <tr>\n",
       "      <th>13</th>\n",
       "      <td>LOCAL: RUA DELMIRO DE FARIAS, JARDIM AMÉRICA. ...</td>\n",
       "    </tr>\n",
       "    <tr>\n",
       "      <th>14</th>\n",
       "      <td>LOCAL: RUA RIBEIRO JÚNIOR, JÓQUEI CLUBE.  VEÍC...</td>\n",
       "    </tr>\n",
       "    <tr>\n",
       "      <th>15</th>\n",
       "      <td>LOCAL: RUA MONSENHOR FURTADO, BELA VISTA.  VEÍ...</td>\n",
       "    </tr>\n",
       "    <tr>\n",
       "      <th>16</th>\n",
       "      <td>LOCAL: RUA ONZE DE JULHO, CARLITO PAMPLONA.  V...</td>\n",
       "    </tr>\n",
       "    <tr>\n",
       "      <th>17</th>\n",
       "      <td>LOCAL: RUA CELENE, CRISTO REDENTOR.  VEÍCULO: ...</td>\n",
       "    </tr>\n",
       "    <tr>\n",
       "      <th>18</th>\n",
       "      <td>LOCAL: RUA FRANCISCA VIEIRA, CANINDEZINHO.  VE...</td>\n",
       "    </tr>\n",
       "  </tbody>\n",
       "</table>\n",
       "</div>"
      ],
      "text/plain": [
       "                              HISTÓRICO DA OCORRÊNCIA\n",
       "0   LOCAL: RUA ARI DE SÁ CAVALCANTE, BARRA DO CEAR...\n",
       "1   LOCAL: RUA HUMBERTO LOMEU, GRANJA PORTUGAL. VÍ...\n",
       "2   LOCAL: RUA TIAGO PEREIRA, BOM JARDIM.  VÍTIMA:...\n",
       "3   LOCAL: RUA EDUARDO ARAÚJO, VILA VELHA.  VÍTIMA...\n",
       "4   LOCAL: RUA BRÁS CUBAS, PLANALTO AIRTON SENA.  ...\n",
       "5   LOCAL: RUA COMENDADOR FRANCISCO DE FRANCESCO D...\n",
       "6   LOCAL: RUIA ANA NERI, DAMAS.  VÍTIMA: ANA P.S....\n",
       "7   LOCAL: AV. BEIRA MAR, PRAIA DE IRACEMA.  VÍTIM...\n",
       "8   LOCAL: TRAVESSA SÃO JOÃO, VICENTE PINZON.  MAT...\n",
       "9   LOCAL: RUA ILDEFONSO ALBANO, PRAIA DE IRACEMA....\n",
       "10  LOCAL: RUA ZÉLIA CORREIA DE SOUSA, ITAPERI.  V...\n",
       "11  LOCAL: RUA PEDRO WILSOM, ITAPERI.  VÍTIMA: TAD...\n",
       "12  LOCAL : RUA FRANCISCO MATIAS, SABIAGUABA.  VÍT...\n",
       "13  LOCAL: RUA DELMIRO DE FARIAS, JARDIM AMÉRICA. ...\n",
       "14  LOCAL: RUA RIBEIRO JÚNIOR, JÓQUEI CLUBE.  VEÍC...\n",
       "15  LOCAL: RUA MONSENHOR FURTADO, BELA VISTA.  VEÍ...\n",
       "16  LOCAL: RUA ONZE DE JULHO, CARLITO PAMPLONA.  V...\n",
       "17  LOCAL: RUA CELENE, CRISTO REDENTOR.  VEÍCULO: ...\n",
       "18  LOCAL: RUA FRANCISCA VIEIRA, CANINDEZINHO.  VE..."
      ]
     },
     "execution_count": 9,
     "metadata": {},
     "output_type": "execute_result"
    }
   ],
   "source": [
    "tes"
   ]
  },
  {
   "cell_type": "code",
   "execution_count": 10,
   "metadata": {
    "collapsed": false,
    "deletable": true,
    "editable": true
   },
   "outputs": [
    {
     "name": "stdout",
     "output_type": "stream",
     "text": [
      "(0, HISTÓRICO DA OCORRÊNCIA    LOCAL: RUA ARI DE SÁ CAVALCANTE, BARRA DO CEAR...\n",
      "Name: 0, dtype: object)\n",
      "(1, HISTÓRICO DA OCORRÊNCIA    LOCAL: RUA HUMBERTO LOMEU, GRANJA PORTUGAL. VÍ...\n",
      "Name: 1, dtype: object)\n",
      "(2, HISTÓRICO DA OCORRÊNCIA    LOCAL: RUA TIAGO PEREIRA, BOM JARDIM.  VÍTIMA:...\n",
      "Name: 2, dtype: object)\n",
      "(3, HISTÓRICO DA OCORRÊNCIA    LOCAL: RUA EDUARDO ARAÚJO, VILA VELHA.  VÍTIMA...\n",
      "Name: 3, dtype: object)\n",
      "(4, HISTÓRICO DA OCORRÊNCIA    LOCAL: RUA BRÁS CUBAS, PLANALTO AIRTON SENA.  ...\n",
      "Name: 4, dtype: object)\n",
      "(5, HISTÓRICO DA OCORRÊNCIA    LOCAL: RUA COMENDADOR FRANCISCO DE FRANCESCO D...\n",
      "Name: 5, dtype: object)\n",
      "(6, HISTÓRICO DA OCORRÊNCIA    LOCAL: RUIA ANA NERI, DAMAS.  VÍTIMA: ANA P.S....\n",
      "Name: 6, dtype: object)\n",
      "(7, HISTÓRICO DA OCORRÊNCIA    LOCAL: AV. BEIRA MAR, PRAIA DE IRACEMA.  VÍTIM...\n",
      "Name: 7, dtype: object)\n",
      "(8, HISTÓRICO DA OCORRÊNCIA    LOCAL: TRAVESSA SÃO JOÃO, VICENTE PINZON.  MAT...\n",
      "Name: 8, dtype: object)\n",
      "(9, HISTÓRICO DA OCORRÊNCIA    LOCAL: RUA ILDEFONSO ALBANO, PRAIA DE IRACEMA....\n",
      "Name: 9, dtype: object)\n",
      "(10, HISTÓRICO DA OCORRÊNCIA    LOCAL: RUA ZÉLIA CORREIA DE SOUSA, ITAPERI.  V...\n",
      "Name: 10, dtype: object)\n",
      "(11, HISTÓRICO DA OCORRÊNCIA    LOCAL: RUA PEDRO WILSOM, ITAPERI.  VÍTIMA: TAD...\n",
      "Name: 11, dtype: object)\n",
      "(12, HISTÓRICO DA OCORRÊNCIA    LOCAL : RUA FRANCISCO MATIAS, SABIAGUABA.  VÍT...\n",
      "Name: 12, dtype: object)\n",
      "(13, HISTÓRICO DA OCORRÊNCIA    LOCAL: RUA DELMIRO DE FARIAS, JARDIM AMÉRICA. ...\n",
      "Name: 13, dtype: object)\n",
      "(14, HISTÓRICO DA OCORRÊNCIA    LOCAL: RUA RIBEIRO JÚNIOR, JÓQUEI CLUBE.  VEÍC...\n",
      "Name: 14, dtype: object)\n",
      "(15, HISTÓRICO DA OCORRÊNCIA    LOCAL: RUA MONSENHOR FURTADO, BELA VISTA.  VEÍ...\n",
      "Name: 15, dtype: object)\n",
      "(16, HISTÓRICO DA OCORRÊNCIA    LOCAL: RUA ONZE DE JULHO, CARLITO PAMPLONA.  V...\n",
      "Name: 16, dtype: object)\n",
      "(17, HISTÓRICO DA OCORRÊNCIA    LOCAL: RUA CELENE, CRISTO REDENTOR.  VEÍCULO: ...\n",
      "Name: 17, dtype: object)\n",
      "(18, HISTÓRICO DA OCORRÊNCIA    LOCAL: RUA FRANCISCA VIEIRA, CANINDEZINHO.  VE...\n",
      "Name: 18, dtype: object)\n"
     ]
    }
   ],
   "source": [
    "for i in tes.iterrows():\n",
    "    print (i)"
   ]
  },
  {
   "cell_type": "code",
   "execution_count": 11,
   "metadata": {
    "collapsed": false,
    "deletable": true,
    "editable": true
   },
   "outputs": [
    {
     "data": {
      "text/html": [
       "<div>\n",
       "<table border=\"1\" class=\"dataframe\">\n",
       "  <thead>\n",
       "    <tr style=\"text-align: right;\">\n",
       "      <th></th>\n",
       "      <th>HISTÓRICO DA OCORRÊNCIA</th>\n",
       "    </tr>\n",
       "  </thead>\n",
       "  <tbody>\n",
       "    <tr>\n",
       "      <th>0</th>\n",
       "      <td>LOCAL: RUA ARI DE SÁ CAVALCANTE, BARRA DO CEAR...</td>\n",
       "    </tr>\n",
       "    <tr>\n",
       "      <th>1</th>\n",
       "      <td>LOCAL: RUA HUMBERTO LOMEU, GRANJA PORTUGAL. VÍ...</td>\n",
       "    </tr>\n",
       "    <tr>\n",
       "      <th>2</th>\n",
       "      <td>LOCAL: RUA TIAGO PEREIRA, BOM JARDIM.  VÍTIMA:...</td>\n",
       "    </tr>\n",
       "    <tr>\n",
       "      <th>3</th>\n",
       "      <td>LOCAL: RUA EDUARDO ARAÚJO, VILA VELHA.  VÍTIMA...</td>\n",
       "    </tr>\n",
       "    <tr>\n",
       "      <th>4</th>\n",
       "      <td>LOCAL: RUA BRÁS CUBAS, PLANALTO AIRTON SENA.  ...</td>\n",
       "    </tr>\n",
       "    <tr>\n",
       "      <th>5</th>\n",
       "      <td>LOCAL: RUA COMENDADOR FRANCISCO DE FRANCESCO D...</td>\n",
       "    </tr>\n",
       "    <tr>\n",
       "      <th>6</th>\n",
       "      <td>LOCAL: RUIA ANA NERI, DAMAS.  VÍTIMA: ANA P.S....</td>\n",
       "    </tr>\n",
       "    <tr>\n",
       "      <th>7</th>\n",
       "      <td>LOCAL: AV. BEIRA MAR, PRAIA DE IRACEMA.  VÍTIM...</td>\n",
       "    </tr>\n",
       "    <tr>\n",
       "      <th>8</th>\n",
       "      <td>LOCAL: TRAVESSA SÃO JOÃO, VICENTE PINZON.  MAT...</td>\n",
       "    </tr>\n",
       "    <tr>\n",
       "      <th>9</th>\n",
       "      <td>LOCAL: RUA ILDEFONSO ALBANO, PRAIA DE IRACEMA....</td>\n",
       "    </tr>\n",
       "    <tr>\n",
       "      <th>10</th>\n",
       "      <td>LOCAL: RUA ZÉLIA CORREIA DE SOUSA, ITAPERI.  V...</td>\n",
       "    </tr>\n",
       "    <tr>\n",
       "      <th>11</th>\n",
       "      <td>LOCAL: RUA PEDRO WILSOM, ITAPERI.  VÍTIMA: TAD...</td>\n",
       "    </tr>\n",
       "    <tr>\n",
       "      <th>12</th>\n",
       "      <td>LOCAL : RUA FRANCISCO MATIAS, SABIAGUABA.  VÍT...</td>\n",
       "    </tr>\n",
       "    <tr>\n",
       "      <th>13</th>\n",
       "      <td>LOCAL: RUA DELMIRO DE FARIAS, JARDIM AMÉRICA. ...</td>\n",
       "    </tr>\n",
       "    <tr>\n",
       "      <th>14</th>\n",
       "      <td>LOCAL: RUA RIBEIRO JÚNIOR, JÓQUEI CLUBE.  VEÍC...</td>\n",
       "    </tr>\n",
       "    <tr>\n",
       "      <th>15</th>\n",
       "      <td>LOCAL: RUA MONSENHOR FURTADO, BELA VISTA.  VEÍ...</td>\n",
       "    </tr>\n",
       "    <tr>\n",
       "      <th>16</th>\n",
       "      <td>LOCAL: RUA ONZE DE JULHO, CARLITO PAMPLONA.  V...</td>\n",
       "    </tr>\n",
       "    <tr>\n",
       "      <th>17</th>\n",
       "      <td>LOCAL: RUA CELENE, CRISTO REDENTOR.  VEÍCULO: ...</td>\n",
       "    </tr>\n",
       "    <tr>\n",
       "      <th>18</th>\n",
       "      <td>LOCAL: RUA FRANCISCA VIEIRA, CANINDEZINHO.  VE...</td>\n",
       "    </tr>\n",
       "  </tbody>\n",
       "</table>\n",
       "</div>"
      ],
      "text/plain": [
       "                              HISTÓRICO DA OCORRÊNCIA\n",
       "0   LOCAL: RUA ARI DE SÁ CAVALCANTE, BARRA DO CEAR...\n",
       "1   LOCAL: RUA HUMBERTO LOMEU, GRANJA PORTUGAL. VÍ...\n",
       "2   LOCAL: RUA TIAGO PEREIRA, BOM JARDIM.  VÍTIMA:...\n",
       "3   LOCAL: RUA EDUARDO ARAÚJO, VILA VELHA.  VÍTIMA...\n",
       "4   LOCAL: RUA BRÁS CUBAS, PLANALTO AIRTON SENA.  ...\n",
       "5   LOCAL: RUA COMENDADOR FRANCISCO DE FRANCESCO D...\n",
       "6   LOCAL: RUIA ANA NERI, DAMAS.  VÍTIMA: ANA P.S....\n",
       "7   LOCAL: AV. BEIRA MAR, PRAIA DE IRACEMA.  VÍTIM...\n",
       "8   LOCAL: TRAVESSA SÃO JOÃO, VICENTE PINZON.  MAT...\n",
       "9   LOCAL: RUA ILDEFONSO ALBANO, PRAIA DE IRACEMA....\n",
       "10  LOCAL: RUA ZÉLIA CORREIA DE SOUSA, ITAPERI.  V...\n",
       "11  LOCAL: RUA PEDRO WILSOM, ITAPERI.  VÍTIMA: TAD...\n",
       "12  LOCAL : RUA FRANCISCO MATIAS, SABIAGUABA.  VÍT...\n",
       "13  LOCAL: RUA DELMIRO DE FARIAS, JARDIM AMÉRICA. ...\n",
       "14  LOCAL: RUA RIBEIRO JÚNIOR, JÓQUEI CLUBE.  VEÍC...\n",
       "15  LOCAL: RUA MONSENHOR FURTADO, BELA VISTA.  VEÍ...\n",
       "16  LOCAL: RUA ONZE DE JULHO, CARLITO PAMPLONA.  V...\n",
       "17  LOCAL: RUA CELENE, CRISTO REDENTOR.  VEÍCULO: ...\n",
       "18  LOCAL: RUA FRANCISCA VIEIRA, CANINDEZINHO.  VE..."
      ]
     },
     "execution_count": 11,
     "metadata": {},
     "output_type": "execute_result"
    }
   ],
   "source": [
    "tes"
   ]
  },
  {
   "cell_type": "code",
   "execution_count": 26,
   "metadata": {
    "collapsed": false,
    "deletable": true,
    "editable": true
   },
   "outputs": [],
   "source": [
    "list = []\n",
    "for i, row in tes.iterrows():\n",
    "    if row['HISTÓRICO DA OCORRÊNCIA']:\n",
    "        list.append(tes.loc[i,:])"
   ]
  },
  {
   "cell_type": "code",
   "execution_count": 27,
   "metadata": {
    "collapsed": false,
    "deletable": true,
    "editable": true
   },
   "outputs": [
    {
     "data": {
      "text/plain": [
       "[HISTÓRICO DA OCORRÊNCIA    LOCAL: RUA ARI DE SÁ CAVALCANTE, BARRA DO CEAR...\n",
       " Name: 0, dtype: object,\n",
       " HISTÓRICO DA OCORRÊNCIA    LOCAL: RUA HUMBERTO LOMEU, GRANJA PORTUGAL. VÍ...\n",
       " Name: 1, dtype: object,\n",
       " HISTÓRICO DA OCORRÊNCIA    LOCAL: RUA TIAGO PEREIRA, BOM JARDIM.  VÍTIMA:...\n",
       " Name: 2, dtype: object,\n",
       " HISTÓRICO DA OCORRÊNCIA    LOCAL: RUA EDUARDO ARAÚJO, VILA VELHA.  VÍTIMA...\n",
       " Name: 3, dtype: object,\n",
       " HISTÓRICO DA OCORRÊNCIA    LOCAL: RUA BRÁS CUBAS, PLANALTO AIRTON SENA.  ...\n",
       " Name: 4, dtype: object,\n",
       " HISTÓRICO DA OCORRÊNCIA    LOCAL: RUA COMENDADOR FRANCISCO DE FRANCESCO D...\n",
       " Name: 5, dtype: object,\n",
       " HISTÓRICO DA OCORRÊNCIA    LOCAL: RUIA ANA NERI, DAMAS.  VÍTIMA: ANA P.S....\n",
       " Name: 6, dtype: object,\n",
       " HISTÓRICO DA OCORRÊNCIA    LOCAL: AV. BEIRA MAR, PRAIA DE IRACEMA.  VÍTIM...\n",
       " Name: 7, dtype: object,\n",
       " HISTÓRICO DA OCORRÊNCIA    LOCAL: TRAVESSA SÃO JOÃO, VICENTE PINZON.  MAT...\n",
       " Name: 8, dtype: object,\n",
       " HISTÓRICO DA OCORRÊNCIA    LOCAL: RUA ILDEFONSO ALBANO, PRAIA DE IRACEMA....\n",
       " Name: 9, dtype: object,\n",
       " HISTÓRICO DA OCORRÊNCIA    LOCAL: RUA ZÉLIA CORREIA DE SOUSA, ITAPERI.  V...\n",
       " Name: 10, dtype: object,\n",
       " HISTÓRICO DA OCORRÊNCIA    LOCAL: RUA PEDRO WILSOM, ITAPERI.  VÍTIMA: TAD...\n",
       " Name: 11, dtype: object,\n",
       " HISTÓRICO DA OCORRÊNCIA    LOCAL : RUA FRANCISCO MATIAS, SABIAGUABA.  VÍT...\n",
       " Name: 12, dtype: object,\n",
       " HISTÓRICO DA OCORRÊNCIA    LOCAL: RUA DELMIRO DE FARIAS, JARDIM AMÉRICA. ...\n",
       " Name: 13, dtype: object,\n",
       " HISTÓRICO DA OCORRÊNCIA    LOCAL: RUA RIBEIRO JÚNIOR, JÓQUEI CLUBE.  VEÍC...\n",
       " Name: 14, dtype: object,\n",
       " HISTÓRICO DA OCORRÊNCIA    LOCAL: RUA MONSENHOR FURTADO, BELA VISTA.  VEÍ...\n",
       " Name: 15, dtype: object,\n",
       " HISTÓRICO DA OCORRÊNCIA    LOCAL: RUA ONZE DE JULHO, CARLITO PAMPLONA.  V...\n",
       " Name: 16, dtype: object,\n",
       " HISTÓRICO DA OCORRÊNCIA    LOCAL: RUA CELENE, CRISTO REDENTOR.  VEÍCULO: ...\n",
       " Name: 17, dtype: object,\n",
       " HISTÓRICO DA OCORRÊNCIA    LOCAL: RUA FRANCISCA VIEIRA, CANINDEZINHO.  VE...\n",
       " Name: 18, dtype: object]"
      ]
     },
     "execution_count": 27,
     "metadata": {},
     "output_type": "execute_result"
    }
   ],
   "source": [
    "list"
   ]
  },
  {
   "cell_type": "code",
   "execution_count": 12,
   "metadata": {
    "collapsed": false,
    "deletable": true,
    "editable": true
   },
   "outputs": [
    {
     "data": {
      "text/plain": [
       "list"
      ]
     },
     "execution_count": 12,
     "metadata": {},
     "output_type": "execute_result"
    }
   ],
   "source": [
    "type(list)"
   ]
  },
  {
   "cell_type": "code",
   "execution_count": 40,
   "metadata": {
    "collapsed": false,
    "deletable": true,
    "editable": true
   },
   "outputs": [],
   "source": [
    "teste = []"
   ]
  },
  {
   "cell_type": "code",
   "execution_count": 18,
   "metadata": {
    "collapsed": false,
    "deletable": true,
    "editable": true
   },
   "outputs": [
    {
     "name": "stdout",
     "output_type": "stream",
     "text": [
      "[]\n"
     ]
    }
   ],
   "source": [
    "print (teste)"
   ]
  },
  {
   "cell_type": "code",
   "execution_count": 41,
   "metadata": {
    "collapsed": false
   },
   "outputs": [
    {
     "name": "stdout",
     "output_type": "stream",
     "text": [
      "[ 'LOCAL: RUA ARI DE SÁ CAVALCANTE, BARRA DO CEARÁ.  VÍTIMAS LESIONADAS: 1a – MENOR DE IDADE,  2a - JOÃO B.G; 3a - JHONANTAN B.P. SUSPEITO /\\nVÍTIMA FATAL: HALLISON N.M. ARMA APREENDIDA: PISTOLA CAL. 380.']\n",
      "[ 'LOCAL: RUA HUMBERTO LOMEU, GRANJA PORTUGAL. VÍTIMA: ADRIANO F.S.G. SUSPEITO: NÃO IDENTIFICADO.']\n",
      "[ 'LOCAL: RUA TIAGO PEREIRA, BOM JARDIM.  VÍTIMA: RICHARD M.S. SUSPEITO: NÃO IDENTIFICADO.']\n",
      "[ 'LOCAL: RUA EDUARDO ARAÚJO, VILA VELHA.  VÍTIMAS: 1a - JOSÉ V.C; 2a - ANTÔNIO R.C.A. MATERIAL APREENDIDO: MACONHA E COCAÍNA. SUSPEITOS:\\nNÃO IDENTIFICADOS.']\n",
      "[ 'LOCAL: RUA BRÁS CUBAS, PLANALTO AIRTON SENA.  VÍTIMA: FRANCISCO A.G.S. SUSPEITO: UM HOMEM.']\n",
      "[ 'LOCAL: RUA COMENDADOR FRANCISCO DE FRANCESCO DI ÂNGELO, PRAIA DO FUTURO. SUSPEITO: RICARDO DOS SANTOS REIS, 35 ANOS. ARMA\\nAPREENDIDA: PISTOLA CALIBRE .40. SUSPEITO CONDUZIDO PARA A DELEGACIA COMPETENTE.']\n",
      "[ 'LOCAL: RUIA ANA NERI, DAMAS.  VÍTIMA: ANA P.S.S. SUSPEITO: LEANDRO DA SILVA UCHOA, 32 ANOS. SUSPEITO CONDUZIDO PARA A DELEGACIA\\nCOMPETENTE.']\n",
      "[ 'LOCAL: AV. BEIRA MAR, PRAIA DE IRACEMA.  VÍTIMA: CELIO C.C.J. SUSPEITO: ADRIANO DA SILVA OLIVEIRA, 23 ANOS. SUSPEITO CONDUZIDO PARA A\\nDELEGACIA COMPETENTE.']\n",
      "[ 'LOCAL: TRAVESSA SÃO JOÃO, VICENTE PINZON.  MATERIAL APREENDIDO: MACONHA, CRACK E COCAÍNA. ENTREGUE NA DELEGACIA COMPETENTE.']\n",
      "[ 'LOCAL: RUA ILDEFONSO ALBANO, PRAIA DE IRACEMA.  VÍTIMA: FRANCISCO A.O.S SUSPEITO: ANTÔNIO VADSON ARAUJO DE SOUSA, 29 ANOS. SUSPEITO\\nCONDUZIDO PARA A DELEGACIA COMPETENTE.']\n",
      "[ 'LOCAL: RUA ZÉLIA CORREIA DE SOUSA, ITAPERI.  VÍTIMA: MIRAMA M.F. SUSPEITO: FRANCISCO LEANDRO DE ARAUJO, 25 ANOS. SUSPEITO CONDUZIDO\\nPARA A DELEGACIA COMPETENTE.']\n",
      "[ 'LOCAL: RUA PEDRO WILSOM, ITAPERI.  VÍTIMA: TADEU J.S.M. SUSPEITA: MARIA JOSÉ BRAGA MENEZES, 39 ANOS. SUSPEITA CONDUZIDA PARA A DELEGACIA\\nCOMPETENTE.']\n",
      "[ 'LOCAL : RUA FRANCISCO MATIAS, SABIAGUABA.  VÍTIMA: FRANCISCO B.V.S. SUSPEITO/VÍTIMA: DENIS FLORÊNCIO DE SOUSA, 22 ANOS. SUSPEITO\\nCONDUZIDO PARA A DELEGACIA COMPETENTE.']\n",
      "[ 'LOCAL: RUA DELMIRO DE FARIAS, JARDIM AMÉRICA.  VÍTIMA: MARIA A.M.S. SUSPEITO: JOÃO PAULO MATEUS DE SOUSA, 37 ANOS. SUSPEITO CONDUZIDO\\nPARA A DELEGACIA COMPETENTE.']\n",
      "[ 'LOCAL: RUA RIBEIRO JÚNIOR, JÓQUEI CLUBE.  VEÍCULO: BROS KS, 2009, AMARELA, PLACA: NRE2199.']\n",
      "[ 'LOCAL: RUA MONSENHOR FURTADO, BELA VISTA.  VEÍCULO: VOYAGE SUPER, 1984, CINZA, PLACA: HWG5368-CE.']\n",
      "[ 'LOCAL: RUA ONZE DE JULHO, CARLITO PAMPLONA.  VEÍCULO: FAN KS, 2014, AMARELA, PLACA: OSH4756.']\n",
      "[ 'LOCAL: RUA CELENE, CRISTO REDENTOR.  VEÍCULO: ECOSPORT FSL AT 2.0, 2015, BRANCO, PLACA: PMQ3194-CE. SUSPEITO: JOSÉ OLAVO DA COSTA\\nFERREIRA, 30 ANOS. SUSPEITO CONDUZIDO PARA A DELEGACIA COMPETENTE.']\n",
      "[ 'LOCAL: RUA FRANCISCA VIEIRA, CANINDEZINHO.  VEÍCULO: FAN ESDI, 2014, PRETA, PLACA: OSA6558.']\n"
     ]
    }
   ],
   "source": [
    "for k in list:\n",
    "    print (k.values)\n",
    "    teste.append(k.values)"
   ]
  },
  {
   "cell_type": "code",
   "execution_count": 35,
   "metadata": {
    "collapsed": false
   },
   "outputs": [
    {
     "data": {
      "text/plain": [
       "['',\n",
       " array([ 'LOCAL: RUA ARI DE SÁ CAVALCANTE, BARRA DO CEARÁ.  VÍTIMAS LESIONADAS: 1a – MENOR DE IDADE,  2a - JOÃO B.G; 3a - JHONANTAN B.P. SUSPEITO /\\nVÍTIMA FATAL: HALLISON N.M. ARMA APREENDIDA: PISTOLA CAL. 380.'], dtype=object),\n",
       " array([ 'LOCAL: RUA HUMBERTO LOMEU, GRANJA PORTUGAL. VÍTIMA: ADRIANO F.S.G. SUSPEITO: NÃO IDENTIFICADO.'], dtype=object),\n",
       " array([ 'LOCAL: RUA TIAGO PEREIRA, BOM JARDIM.  VÍTIMA: RICHARD M.S. SUSPEITO: NÃO IDENTIFICADO.'], dtype=object),\n",
       " array([ 'LOCAL: RUA EDUARDO ARAÚJO, VILA VELHA.  VÍTIMAS: 1a - JOSÉ V.C; 2a - ANTÔNIO R.C.A. MATERIAL APREENDIDO: MACONHA E COCAÍNA. SUSPEITOS:\\nNÃO IDENTIFICADOS.'], dtype=object),\n",
       " array([ 'LOCAL: RUA BRÁS CUBAS, PLANALTO AIRTON SENA.  VÍTIMA: FRANCISCO A.G.S. SUSPEITO: UM HOMEM.'], dtype=object),\n",
       " array([ 'LOCAL: RUA COMENDADOR FRANCISCO DE FRANCESCO DI ÂNGELO, PRAIA DO FUTURO. SUSPEITO: RICARDO DOS SANTOS REIS, 35 ANOS. ARMA\\nAPREENDIDA: PISTOLA CALIBRE .40. SUSPEITO CONDUZIDO PARA A DELEGACIA COMPETENTE.'], dtype=object),\n",
       " array([ 'LOCAL: RUIA ANA NERI, DAMAS.  VÍTIMA: ANA P.S.S. SUSPEITO: LEANDRO DA SILVA UCHOA, 32 ANOS. SUSPEITO CONDUZIDO PARA A DELEGACIA\\nCOMPETENTE.'], dtype=object),\n",
       " array([ 'LOCAL: AV. BEIRA MAR, PRAIA DE IRACEMA.  VÍTIMA: CELIO C.C.J. SUSPEITO: ADRIANO DA SILVA OLIVEIRA, 23 ANOS. SUSPEITO CONDUZIDO PARA A\\nDELEGACIA COMPETENTE.'], dtype=object),\n",
       " array([ 'LOCAL: TRAVESSA SÃO JOÃO, VICENTE PINZON.  MATERIAL APREENDIDO: MACONHA, CRACK E COCAÍNA. ENTREGUE NA DELEGACIA COMPETENTE.'], dtype=object),\n",
       " array([ 'LOCAL: RUA ILDEFONSO ALBANO, PRAIA DE IRACEMA.  VÍTIMA: FRANCISCO A.O.S SUSPEITO: ANTÔNIO VADSON ARAUJO DE SOUSA, 29 ANOS. SUSPEITO\\nCONDUZIDO PARA A DELEGACIA COMPETENTE.'], dtype=object),\n",
       " array([ 'LOCAL: RUA ZÉLIA CORREIA DE SOUSA, ITAPERI.  VÍTIMA: MIRAMA M.F. SUSPEITO: FRANCISCO LEANDRO DE ARAUJO, 25 ANOS. SUSPEITO CONDUZIDO\\nPARA A DELEGACIA COMPETENTE.'], dtype=object),\n",
       " array([ 'LOCAL: RUA PEDRO WILSOM, ITAPERI.  VÍTIMA: TADEU J.S.M. SUSPEITA: MARIA JOSÉ BRAGA MENEZES, 39 ANOS. SUSPEITA CONDUZIDA PARA A DELEGACIA\\nCOMPETENTE.'], dtype=object),\n",
       " array([ 'LOCAL : RUA FRANCISCO MATIAS, SABIAGUABA.  VÍTIMA: FRANCISCO B.V.S. SUSPEITO/VÍTIMA: DENIS FLORÊNCIO DE SOUSA, 22 ANOS. SUSPEITO\\nCONDUZIDO PARA A DELEGACIA COMPETENTE.'], dtype=object),\n",
       " array([ 'LOCAL: RUA DELMIRO DE FARIAS, JARDIM AMÉRICA.  VÍTIMA: MARIA A.M.S. SUSPEITO: JOÃO PAULO MATEUS DE SOUSA, 37 ANOS. SUSPEITO CONDUZIDO\\nPARA A DELEGACIA COMPETENTE.'], dtype=object),\n",
       " array([ 'LOCAL: RUA RIBEIRO JÚNIOR, JÓQUEI CLUBE.  VEÍCULO: BROS KS, 2009, AMARELA, PLACA: NRE2199.'], dtype=object),\n",
       " array([ 'LOCAL: RUA MONSENHOR FURTADO, BELA VISTA.  VEÍCULO: VOYAGE SUPER, 1984, CINZA, PLACA: HWG5368-CE.'], dtype=object),\n",
       " array([ 'LOCAL: RUA ONZE DE JULHO, CARLITO PAMPLONA.  VEÍCULO: FAN KS, 2014, AMARELA, PLACA: OSH4756.'], dtype=object),\n",
       " array([ 'LOCAL: RUA CELENE, CRISTO REDENTOR.  VEÍCULO: ECOSPORT FSL AT 2.0, 2015, BRANCO, PLACA: PMQ3194-CE. SUSPEITO: JOSÉ OLAVO DA COSTA\\nFERREIRA, 30 ANOS. SUSPEITO CONDUZIDO PARA A DELEGACIA COMPETENTE.'], dtype=object),\n",
       " array([ 'LOCAL: RUA FRANCISCA VIEIRA, CANINDEZINHO.  VEÍCULO: FAN ESDI, 2014, PRETA, PLACA: OSA6558.'], dtype=object)]"
      ]
     },
     "execution_count": 35,
     "metadata": {},
     "output_type": "execute_result"
    }
   ],
   "source": [
    "teste"
   ]
  },
  {
   "cell_type": "code",
   "execution_count": 42,
   "metadata": {
    "collapsed": false
   },
   "outputs": [
    {
     "data": {
      "text/plain": [
       "array([ 'LOCAL: RUA ARI DE SÁ CAVALCANTE, BARRA DO CEARÁ.  VÍTIMAS LESIONADAS: 1a – MENOR DE IDADE,  2a - JOÃO B.G; 3a - JHONANTAN B.P. SUSPEITO /\\nVÍTIMA FATAL: HALLISON N.M. ARMA APREENDIDA: PISTOLA CAL. 380.'], dtype=object)"
      ]
     },
     "execution_count": 42,
     "metadata": {},
     "output_type": "execute_result"
    }
   ],
   "source": [
    "teste[0]"
   ]
  },
  {
   "cell_type": "code",
   "execution_count": 43,
   "metadata": {
    "collapsed": false
   },
   "outputs": [
    {
     "data": {
      "text/plain": [
       "array([ 'LOCAL: RUA COMENDADOR FRANCISCO DE FRANCESCO DI ÂNGELO, PRAIA DO FUTURO. SUSPEITO: RICARDO DOS SANTOS REIS, 35 ANOS. ARMA\\nAPREENDIDA: PISTOLA CALIBRE .40. SUSPEITO CONDUZIDO PARA A DELEGACIA COMPETENTE.'], dtype=object)"
      ]
     },
     "execution_count": 43,
     "metadata": {},
     "output_type": "execute_result"
    }
   ],
   "source": [
    "teste[5]"
   ]
  },
  {
   "cell_type": "code",
   "execution_count": null,
   "metadata": {
    "collapsed": true
   },
   "outputs": [],
   "source": []
  }
 ],
 "metadata": {
  "kernelspec": {
   "display_name": "Python 3",
   "language": "python",
   "name": "python3"
  },
  "language_info": {
   "codemirror_mode": {
    "name": "ipython",
    "version": 3
   },
   "file_extension": ".py",
   "mimetype": "text/x-python",
   "name": "python",
   "nbconvert_exporter": "python",
   "pygments_lexer": "ipython3",
   "version": "3.5.2"
  }
 },
 "nbformat": 4,
 "nbformat_minor": 2
}
