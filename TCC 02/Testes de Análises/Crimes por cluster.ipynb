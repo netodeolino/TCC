{
 "cells": [
  {
   "cell_type": "code",
   "execution_count": 1,
   "metadata": {
    "collapsed": true
   },
   "outputs": [],
   "source": [
    "import pandas"
   ]
  },
  {
   "cell_type": "code",
   "execution_count": 2,
   "metadata": {
    "collapsed": true
   },
   "outputs": [],
   "source": [
    "df = pandas.read_csv(\"./Cluster-Crime-Janeiro.csv\")"
   ]
  },
  {
   "cell_type": "code",
   "execution_count": 4,
   "metadata": {
    "collapsed": true
   },
   "outputs": [],
   "source": [
    "de = df['NATUREZA DA OCORRÊNCIA'].groupby(df['CLUSTER']).describe()"
   ]
  },
  {
   "cell_type": "code",
   "execution_count": 5,
   "metadata": {},
   "outputs": [
    {
     "data": {
      "text/plain": [
       "count                    542\n",
       "unique                   145\n",
       "top       VEÍCULO LOCALIZADO\n",
       "freq                     194\n",
       "Name: NATUREZA DA OCORRÊNCIA, dtype: object"
      ]
     },
     "execution_count": 5,
     "metadata": {},
     "output_type": "execute_result"
    }
   ],
   "source": [
    "df['NATUREZA DA OCORRÊNCIA'].describe()"
   ]
  },
  {
   "cell_type": "code",
   "execution_count": 6,
   "metadata": {},
   "outputs": [
    {
     "data": {
      "text/html": [
       "<div>\n",
       "<style scoped>\n",
       "    .dataframe tbody tr th:only-of-type {\n",
       "        vertical-align: middle;\n",
       "    }\n",
       "\n",
       "    .dataframe tbody tr th {\n",
       "        vertical-align: top;\n",
       "    }\n",
       "\n",
       "    .dataframe thead th {\n",
       "        text-align: right;\n",
       "    }\n",
       "</style>\n",
       "<table border=\"1\" class=\"dataframe\">\n",
       "  <thead>\n",
       "    <tr style=\"text-align: right;\">\n",
       "      <th></th>\n",
       "      <th>count</th>\n",
       "      <th>unique</th>\n",
       "      <th>top</th>\n",
       "      <th>freq</th>\n",
       "    </tr>\n",
       "    <tr>\n",
       "      <th>CLUSTER</th>\n",
       "      <th></th>\n",
       "      <th></th>\n",
       "      <th></th>\n",
       "      <th></th>\n",
       "    </tr>\n",
       "  </thead>\n",
       "  <tbody>\n",
       "    <tr>\n",
       "      <th>-1</th>\n",
       "      <td>233</td>\n",
       "      <td>85</td>\n",
       "      <td>VEÍCULO LOCALIZADO</td>\n",
       "      <td>81</td>\n",
       "    </tr>\n",
       "    <tr>\n",
       "      <th>0</th>\n",
       "      <td>8</td>\n",
       "      <td>5</td>\n",
       "      <td>VEÍCULO LOCALIZADO</td>\n",
       "      <td>4</td>\n",
       "    </tr>\n",
       "    <tr>\n",
       "      <th>1</th>\n",
       "      <td>22</td>\n",
       "      <td>10</td>\n",
       "      <td>VEÍCULO LOCALIZADO</td>\n",
       "      <td>8</td>\n",
       "    </tr>\n",
       "    <tr>\n",
       "      <th>2</th>\n",
       "      <td>7</td>\n",
       "      <td>7</td>\n",
       "      <td>CRIME CONTRA A ADMINISTRAÇÃO PÚBLICA (T.C.O.)</td>\n",
       "      <td>1</td>\n",
       "    </tr>\n",
       "    <tr>\n",
       "      <th>3</th>\n",
       "      <td>18</td>\n",
       "      <td>11</td>\n",
       "      <td>VEÍCULO LOCALIZADO</td>\n",
       "      <td>7</td>\n",
       "    </tr>\n",
       "    <tr>\n",
       "      <th>4</th>\n",
       "      <td>63</td>\n",
       "      <td>23</td>\n",
       "      <td>VEÍCULO LOCALIZADO</td>\n",
       "      <td>25</td>\n",
       "    </tr>\n",
       "    <tr>\n",
       "      <th>5</th>\n",
       "      <td>6</td>\n",
       "      <td>4</td>\n",
       "      <td>VEÍCULO LOCALIZADO</td>\n",
       "      <td>3</td>\n",
       "    </tr>\n",
       "    <tr>\n",
       "      <th>6</th>\n",
       "      <td>5</td>\n",
       "      <td>4</td>\n",
       "      <td>TRÁFICO DE ENTORPECENTES</td>\n",
       "      <td>2</td>\n",
       "    </tr>\n",
       "    <tr>\n",
       "      <th>7</th>\n",
       "      <td>6</td>\n",
       "      <td>4</td>\n",
       "      <td>VEÍCULO LOCALIZADO</td>\n",
       "      <td>3</td>\n",
       "    </tr>\n",
       "    <tr>\n",
       "      <th>8</th>\n",
       "      <td>7</td>\n",
       "      <td>3</td>\n",
       "      <td>VEÍCULO LOCALIZADO</td>\n",
       "      <td>5</td>\n",
       "    </tr>\n",
       "    <tr>\n",
       "      <th>9</th>\n",
       "      <td>14</td>\n",
       "      <td>6</td>\n",
       "      <td>VEÍCULO LOCALIZADO</td>\n",
       "      <td>6</td>\n",
       "    </tr>\n",
       "    <tr>\n",
       "      <th>10</th>\n",
       "      <td>22</td>\n",
       "      <td>14</td>\n",
       "      <td>MORTE A BALA</td>\n",
       "      <td>4</td>\n",
       "    </tr>\n",
       "    <tr>\n",
       "      <th>11</th>\n",
       "      <td>12</td>\n",
       "      <td>7</td>\n",
       "      <td>VEÍCULO LOCALIZADO</td>\n",
       "      <td>6</td>\n",
       "    </tr>\n",
       "    <tr>\n",
       "      <th>12</th>\n",
       "      <td>6</td>\n",
       "      <td>4</td>\n",
       "      <td>VEÍCULO LOCALIZADO</td>\n",
       "      <td>3</td>\n",
       "    </tr>\n",
       "    <tr>\n",
       "      <th>13</th>\n",
       "      <td>5</td>\n",
       "      <td>2</td>\n",
       "      <td>VEÍCULO LOCALIZADO</td>\n",
       "      <td>4</td>\n",
       "    </tr>\n",
       "    <tr>\n",
       "      <th>14</th>\n",
       "      <td>13</td>\n",
       "      <td>8</td>\n",
       "      <td>VEÍCULO LOCALIZADO</td>\n",
       "      <td>5</td>\n",
       "    </tr>\n",
       "    <tr>\n",
       "      <th>15</th>\n",
       "      <td>6</td>\n",
       "      <td>3</td>\n",
       "      <td>VEÍCULO LOCALIZADO</td>\n",
       "      <td>3</td>\n",
       "    </tr>\n",
       "    <tr>\n",
       "      <th>16</th>\n",
       "      <td>15</td>\n",
       "      <td>8</td>\n",
       "      <td>VEÍCULO LOCALIZADO</td>\n",
       "      <td>5</td>\n",
       "    </tr>\n",
       "    <tr>\n",
       "      <th>17</th>\n",
       "      <td>5</td>\n",
       "      <td>4</td>\n",
       "      <td>VEÍCULO LOCALIZADO</td>\n",
       "      <td>2</td>\n",
       "    </tr>\n",
       "    <tr>\n",
       "      <th>18</th>\n",
       "      <td>8</td>\n",
       "      <td>6</td>\n",
       "      <td>MORTE A BALA</td>\n",
       "      <td>2</td>\n",
       "    </tr>\n",
       "    <tr>\n",
       "      <th>19</th>\n",
       "      <td>6</td>\n",
       "      <td>5</td>\n",
       "      <td>VEÍCULO LOCALIZADO</td>\n",
       "      <td>2</td>\n",
       "    </tr>\n",
       "    <tr>\n",
       "      <th>20</th>\n",
       "      <td>9</td>\n",
       "      <td>5</td>\n",
       "      <td>VEÍCULO LOCALIZADO</td>\n",
       "      <td>5</td>\n",
       "    </tr>\n",
       "    <tr>\n",
       "      <th>21</th>\n",
       "      <td>6</td>\n",
       "      <td>5</td>\n",
       "      <td>VEÍCULO LOCALIZADO</td>\n",
       "      <td>2</td>\n",
       "    </tr>\n",
       "    <tr>\n",
       "      <th>22</th>\n",
       "      <td>10</td>\n",
       "      <td>6</td>\n",
       "      <td>VEÍCULO LOCALIZADO</td>\n",
       "      <td>5</td>\n",
       "    </tr>\n",
       "    <tr>\n",
       "      <th>23</th>\n",
       "      <td>6</td>\n",
       "      <td>3</td>\n",
       "      <td>TRÁFICO DE ENTORPECENTES</td>\n",
       "      <td>4</td>\n",
       "    </tr>\n",
       "    <tr>\n",
       "      <th>24</th>\n",
       "      <td>8</td>\n",
       "      <td>8</td>\n",
       "      <td>PORTE ILEGAL DE ARMA  (ATO INFRACIONAL/FLAGRANTE)</td>\n",
       "      <td>1</td>\n",
       "    </tr>\n",
       "    <tr>\n",
       "      <th>25</th>\n",
       "      <td>5</td>\n",
       "      <td>5</td>\n",
       "      <td>PERTURBAÇÃO AO SOSSEGO ALHEIO - EM CARRO (T.C.O.)</td>\n",
       "      <td>1</td>\n",
       "    </tr>\n",
       "    <tr>\n",
       "      <th>26</th>\n",
       "      <td>6</td>\n",
       "      <td>3</td>\n",
       "      <td>MORTE A BALA</td>\n",
       "      <td>4</td>\n",
       "    </tr>\n",
       "    <tr>\n",
       "      <th>27</th>\n",
       "      <td>5</td>\n",
       "      <td>5</td>\n",
       "      <td>MORTE A BALA</td>\n",
       "      <td>1</td>\n",
       "    </tr>\n",
       "  </tbody>\n",
       "</table>\n",
       "</div>"
      ],
      "text/plain": [
       "        count unique                                                top freq\n",
       "CLUSTER                                                                     \n",
       "-1        233     85                                 VEÍCULO LOCALIZADO   81\n",
       " 0          8      5                                 VEÍCULO LOCALIZADO    4\n",
       " 1         22     10                                 VEÍCULO LOCALIZADO    8\n",
       " 2          7      7      CRIME CONTRA A ADMINISTRAÇÃO PÚBLICA (T.C.O.)    1\n",
       " 3         18     11                                 VEÍCULO LOCALIZADO    7\n",
       " 4         63     23                                 VEÍCULO LOCALIZADO   25\n",
       " 5          6      4                                 VEÍCULO LOCALIZADO    3\n",
       " 6          5      4                           TRÁFICO DE ENTORPECENTES    2\n",
       " 7          6      4                                 VEÍCULO LOCALIZADO    3\n",
       " 8          7      3                                 VEÍCULO LOCALIZADO    5\n",
       " 9         14      6                                 VEÍCULO LOCALIZADO    6\n",
       " 10        22     14                                       MORTE A BALA    4\n",
       " 11        12      7                                 VEÍCULO LOCALIZADO    6\n",
       " 12         6      4                                 VEÍCULO LOCALIZADO    3\n",
       " 13         5      2                                 VEÍCULO LOCALIZADO    4\n",
       " 14        13      8                                 VEÍCULO LOCALIZADO    5\n",
       " 15         6      3                                 VEÍCULO LOCALIZADO    3\n",
       " 16        15      8                                 VEÍCULO LOCALIZADO    5\n",
       " 17         5      4                                 VEÍCULO LOCALIZADO    2\n",
       " 18         8      6                                       MORTE A BALA    2\n",
       " 19         6      5                                 VEÍCULO LOCALIZADO    2\n",
       " 20         9      5                                 VEÍCULO LOCALIZADO    5\n",
       " 21         6      5                                 VEÍCULO LOCALIZADO    2\n",
       " 22        10      6                                 VEÍCULO LOCALIZADO    5\n",
       " 23         6      3                           TRÁFICO DE ENTORPECENTES    4\n",
       " 24         8      8  PORTE ILEGAL DE ARMA  (ATO INFRACIONAL/FLAGRANTE)    1\n",
       " 25         5      5  PERTURBAÇÃO AO SOSSEGO ALHEIO - EM CARRO (T.C.O.)    1\n",
       " 26         6      3                                       MORTE A BALA    4\n",
       " 27         5      5                                       MORTE A BALA    1"
      ]
     },
     "execution_count": 6,
     "metadata": {},
     "output_type": "execute_result"
    }
   ],
   "source": [
    "de"
   ]
  },
  {
   "cell_type": "code",
   "execution_count": 7,
   "metadata": {
    "collapsed": true
   },
   "outputs": [],
   "source": [
    "new_df = df.groupby('CLUSTER')"
   ]
  },
  {
   "cell_type": "code",
   "execution_count": 8,
   "metadata": {
    "collapsed": true
   },
   "outputs": [],
   "source": [
    "crimes = new_df['NATUREZA DA OCORRÊNCIA'].count()"
   ]
  },
  {
   "cell_type": "code",
   "execution_count": 9,
   "metadata": {
    "collapsed": true
   },
   "outputs": [],
   "source": [
    "import matplotlib.pyplot as plt\n",
    "import numpy as np\n",
    "import matplotlib.ticker as ticker"
   ]
  },
  {
   "cell_type": "code",
   "execution_count": 12,
   "metadata": {},
   "outputs": [
    {
     "data": {
      "image/png": "[encoded data removed]",
      "text/plain": [
       "<matplotlib.figure.Figure at 0x7f52978f8a90>"
      ]
     },
     "metadata": {},
     "output_type": "display_data"
    }
   ],
   "source": [
    "crimes.plot(kind='barh', figsize=(10,8), color='#cc0000')\n",
    "plt.title('Crimes Number (Jan 2017)')\n",
    "plt.xlabel('Number')\n",
    "plt.ylabel('Cluster - Região')\n",
    "plt.tight_layout()\n",
    "ax = plt.gca()\n",
    "ax.xaxis.set_major_formatter(ticker.StrMethodFormatter('{x:,.0f}'))\n",
    "plt.show()"
   ]
  },
  {
   "cell_type": "code",
   "execution_count": 10,
   "metadata": {},
   "outputs": [
    {
     "data": {
      "text/plain": [
       "CLUSTER\n",
       "-1     233\n",
       " 0       8\n",
       " 1      22\n",
       " 2       7\n",
       " 3      18\n",
       " 4      63\n",
       " 5       6\n",
       " 6       5\n",
       " 7       6\n",
       " 8       7\n",
       " 9      14\n",
       " 10     22\n",
       " 11     12\n",
       " 12      6\n",
       " 13      5\n",
       " 14     13\n",
       " 15      6\n",
       " 16     15\n",
       " 17      5\n",
       " 18      8\n",
       " 19      6\n",
       " 20      9\n",
       " 21      6\n",
       " 22     10\n",
       " 23      6\n",
       " 24      8\n",
       " 25      5\n",
       " 26      6\n",
       " 27      5\n",
       "Name: NATUREZA DA OCORRÊNCIA, dtype: int64"
      ]
     },
     "execution_count": 10,
     "metadata": {},
     "output_type": "execute_result"
    }
   ],
   "source": []
  },
  {
   "cell_type": "code",
   "execution_count": null,
   "metadata": {
    "collapsed": true
   },
   "outputs": [],
   "source": []
  }
 ],
 "metadata": {
  "kernelspec": {
   "display_name": "Python 3",
   "language": "python",
   "name": "python3"
  },
  "language_info": {
   "codemirror_mode": {
    "name": "ipython",
    "version": 3
   },
   "file_extension": ".py",
   "mimetype": "text/x-python",
   "name": "python",
   "nbconvert_exporter": "python",
   "pygments_lexer": "ipython3",
   "version": "3.5.2"
  }
 },
 "nbformat": 4,
 "nbformat_minor": 2
}
